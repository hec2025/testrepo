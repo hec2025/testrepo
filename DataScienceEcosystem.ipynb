{
  "nbformat": 4,
  "nbformat_minor": 0,
  "metadata": {
    "colab": {
      "provenance": []
    },
    "kernelspec": {
      "name": "python3",
      "display_name": "Python 3"
    },
    "language_info": {
      "name": "python"
    }
  },
  "cells": [
    {
      "cell_type": "markdown",
      "source": [
        "#Data Science Tools and Ecosystem"
      ],
      "metadata": {
        "id": "HSqfN09N5FFI"
      }
    },
    {
      "cell_type": "markdown",
      "source": [
        "###In this notebook, Data Science Tools and Ecosystem are summarized.\n"
      ],
      "metadata": {
        "id": "ujZfLXX46P24"
      }
    },
    {
      "cell_type": "markdown",
      "source": [
        "####**Objetives:**####\n",
        "\n",
        "\n",
        "\n",
        "*   **Popular languages for Data Science**\n",
        "*   **Libraries used in Data Science**\n",
        "*   **Arithmetic Expressions in Python**\n",
        "\n",
        "\n",
        "\n",
        "\n",
        "\n"
      ],
      "metadata": {
        "id": "AaZG5XA-DHQp"
      }
    },
    {
      "cell_type": "markdown",
      "source": [
        "####Some of the popular languages that Data Scientists use are:\n",
        "1. Python\n",
        "2. R\n",
        "3. SQL\n"
      ],
      "metadata": {
        "id": "xNPtwnru7IUC"
      }
    },
    {
      "cell_type": "markdown",
      "source": [
        "####Some of the commonly used libraries used by Data Scientists include:\n",
        "1. Matplotlib\n",
        "2. Numpy\n",
        "3. Pandas"
      ],
      "metadata": {
        "id": "RUSe49f685Dv"
      }
    },
    {
      "cell_type": "markdown",
      "source": [
        "|Herramientas de código abierto para el entorno de la ciencia de datos|\n",
        "|---------------------------------------------------------------------|\n",
        "|Python|\n",
        "|Julia|\n",
        "|GitHub|"
      ],
      "metadata": {
        "id": "Yo6uBhu490lG"
      }
    },
    {
      "cell_type": "markdown",
      "source": [
        "###Below are a few examples of evaluating arithmetic expressions in Python"
      ],
      "metadata": {
        "id": "fgQ6j5Wb_jK3"
      }
    },
    {
      "cell_type": "code",
      "source": [
        "#Ésta es una expresión aritmética simple para luego agregar números enteros\n",
        "\n",
        "(3*4)+5"
      ],
      "metadata": {
        "colab": {
          "base_uri": "https://localhost:8080/"
        },
        "id": "-1YeNN79AMC0",
        "outputId": "f497c459-ba7e-41cb-fbba-67a249105607"
      },
      "execution_count": 1,
      "outputs": [
        {
          "output_type": "execute_result",
          "data": {
            "text/plain": [
              "17"
            ]
          },
          "metadata": {},
          "execution_count": 1
        }
      ]
    },
    {
      "cell_type": "code",
      "source": [
        "#Esto convertirá 200 minutos en horas buceando en 60\n",
        "\n",
        "minutos=200\n",
        "horas=60\n",
        "\n",
        "(minutos/horas)"
      ],
      "metadata": {
        "colab": {
          "base_uri": "https://localhost:8080/"
        },
        "id": "Qhgnz-P_B_mQ",
        "outputId": "9d76b37e-58c7-440b-a060-b0c0203d0dbb"
      },
      "execution_count": 3,
      "outputs": [
        {
          "output_type": "execute_result",
          "data": {
            "text/plain": [
              "3.3333333333333335"
            ]
          },
          "metadata": {},
          "execution_count": 3
        }
      ]
    },
    {
      "cell_type": "markdown",
      "source": [
        "##Author: Héctor Herrera"
      ],
      "metadata": {
        "id": "YMqcmSYXExSO"
      }
    }
  ]
}